{
 "cells": [
  {
   "cell_type": "markdown",
   "id": "hispanic-embassy",
   "metadata": {
    "id": "hispanic-embassy"
   },
   "source": [
    "## Create Dataset"
   ]
  },
  {
   "cell_type": "code",
   "execution_count": 1,
   "id": "OguA1m2xC2R2",
   "metadata": {
    "id": "OguA1m2xC2R2"
   },
   "outputs": [],
   "source": [
    "import torch\n",
    "import random\n",
    "from torchvision import datasets, transforms\n",
    "from torch.autograd import Variable\n",
    "import torch.optim as optim\n",
    "import torch.nn.functional as F\n",
    "import torch.nn as nn\n",
    "from sklearn.preprocessing import MinMaxScaler\n",
    "import torch.utils.data as data_utils\n",
    "from model import Transformer,TCN,LSTMWithInputCellAttention,LSTM\n",
    "import matplotlib.pyplot as plt\n",
    "import seaborn as sns\n",
    "import numpy as np"
   ]
  },
  {
   "cell_type": "code",
   "execution_count": 2,
   "id": "zN0wfRhAtTn7",
   "metadata": {
    "id": "zN0wfRhAtTn7"
   },
   "outputs": [],
   "source": [
    "train_set = datasets.MNIST('./data', train=True, download=True,\n",
    "                            transform=transforms.Compose([\n",
    "                                transforms.ToTensor(),\n",
    "                                transforms.Normalize((0.1307,), (0.3081,))\n",
    "                            ]))\n",
    "test_set = datasets.MNIST('./data', train=False, download=True,\n",
    "                          transform=transforms.Compose([\n",
    "                              transforms.ToTensor(),\n",
    "                              transforms.Normalize((0.1307,), (0.3081,))\n",
    "                          ]))"
   ]
  },
  {
   "cell_type": "code",
   "execution_count": 3,
   "id": "arbitrary-liability",
   "metadata": {
    "id": "arbitrary-liability"
   },
   "outputs": [],
   "source": [
    "def mix(i,j,dataset):\n",
    "  ret = torch.zeros_like(dataset.data[i], dtype=torch.float)\n",
    "  ret[:, torch.arange(0, 28, 2)] = dataset.data[i][:, torch.arange(0, 28, 2)].float()\n",
    "  ret[:, torch.arange(0, 28, 2) + 1] = dataset.data[j][:, torch.arange(0, 28, 2) + 1].float()\n",
    "\n",
    "  return ret"
   ]
  },
  {
   "cell_type": "code",
   "execution_count": 4,
   "id": "oo6wR3Fe9HGK",
   "metadata": {
    "id": "oo6wR3Fe9HGK"
   },
   "outputs": [],
   "source": [
    "def data_generator_random(batch_size,returnSet=False):\n",
    "    train_set = datasets.MNIST('./data', train=True, download=True,\n",
    "                               transform=transforms.Compose([\n",
    "                                   transforms.ToTensor(),\n",
    "                                   transforms.Normalize((0.1307,), (0.3081,))\n",
    "                               ]))\n",
    "    test_set = datasets.MNIST('./data', train=False, download=True,\n",
    "                              transform=transforms.Compose([\n",
    "                                  transforms.ToTensor(),\n",
    "                                  transforms.Normalize((0.1307,), (0.3081,))\n",
    "                              ]))\n",
    "    \n",
    "    new_train_data = []       # mixed image\n",
    "    new_train_targets = []    # even column label (0 based)\n",
    "    new_train_noise = []      # odd column label  (0 based)\n",
    "    id1 = []\n",
    "    for i in range(0,10):\n",
    "      id1.append([id for id, e in enumerate(train_set.targets) if e == i])\n",
    "    repeat = 2\n",
    "    for t in range(0,10):   # targets\n",
    "      for i in id1[t]:   \n",
    "        for num in range(repeat):\n",
    "          noise = random.randint(0, 9)\n",
    "          while noise == t:\n",
    "            noise = random.randint(0, 9)\n",
    "          noise_idx = random.sample(id1[noise], 1)[0]\n",
    "          new_train_data.append(mix(i,noise_idx,train_set))\n",
    "          new_train_targets.append(t)\n",
    "      new_train_noise.append(noise)\n",
    "    \n",
    "    new_test_data = []       # mixed image\n",
    "    new_test_targets = []    # even column label (0 based)\n",
    "    new_test_noise = []      # odd column label  (0 based)\n",
    "\n",
    "    id2 = []\n",
    "    for i in range(0,10):\n",
    "      id2.append([id for id, e in enumerate(test_set.targets) if e == i])\n",
    "    repeat = 2\n",
    "    for t in range(0,10):   # targets\n",
    "      for i in id2[t]:   \n",
    "        for num in range(repeat):\n",
    "          noise = random.randint(0, 9)\n",
    "          while noise == t:\n",
    "            noise = random.randint(0, 9)\n",
    "          noise_idx = random.sample(id2[noise], 1)[0]\n",
    "          new_test_data.append(mix(i,noise_idx, test_set))\n",
    "          new_test_targets.append(t)\n",
    "          new_test_noise.append(noise)\n",
    "    \n",
    "    new_train_data = torch.stack((new_train_data))\n",
    "    new_train_data -= new_train_data.min(1, keepdim=True)[0]\n",
    "    new_train_data /= new_train_data.max(1, keepdim=True)[0]\n",
    "    new_train_data = torch.nan_to_num(new_train_data, nan=0.0)\n",
    "\n",
    "    arr = np.array(new_train_targets)\n",
    "    t = torch.from_numpy(arr)\n",
    "    mnist_train = data_utils.TensorDataset(new_train_data,t)\n",
    "\n",
    "    new_test_data = torch.stack((new_test_data))\n",
    "    new_test_data -= new_test_data.min(1, keepdim=True)[0]\n",
    "    new_test_data /= new_test_data.max(1, keepdim=True)[0]\n",
    "    new_test_data = torch.nan_to_num(new_test_data, nan=0.0)\n",
    "\n",
    "    arr2 = np.array(new_test_targets)\n",
    "    t2 = torch.from_numpy(arr2)\n",
    "    minst_test = data_utils.TensorDataset(new_test_data,t2)\n",
    "    \n",
    "    train_loader = torch.utils.data.DataLoader(mnist_train, batch_size=batch_size, shuffle = True)\n",
    "    test_loader = torch.utils.data.DataLoader(minst_test, batch_size=batch_size)  \n",
    "    \n",
    "    if(returnSet):\n",
    "      return train_set, test_set\n",
    "    return train_loader, test_loader"
   ]
  },
  {
   "cell_type": "markdown",
   "id": "encouraging-savage",
   "metadata": {
    "id": "encouraging-savage"
   },
   "source": [
    "## Define Transformer"
   ]
  },
  {
   "cell_type": "code",
   "execution_count": null,
   "id": "tracked-latitude",
   "metadata": {
    "id": "tracked-latitude"
   },
   "outputs": [],
   "source": [
    "import torch.nn.functional as F\n",
    "from torch import nn\n",
    "from typing import *\n",
    "from torch.nn import Parameter\n",
    "from torch.autograd import Variable\n",
    "import copy\n",
    "import math\n",
    "import torch\n",
    "from torch.nn.utils import weight_norm"
   ]
  },
  {
   "cell_type": "code",
   "execution_count": null,
   "id": "adult-neighborhood",
   "metadata": {
    "id": "adult-neighborhood"
   },
   "outputs": [],
   "source": [
    "class Norm(nn.Module):\n",
    "    def __init__(self, d_model, eps = 1e-6):\n",
    "        super().__init__()\n",
    "    \n",
    "        self.size = d_model\n",
    "        \n",
    "        # create two learnable parameters to calibrate normalisation\n",
    "        self.alpha = nn.Parameter(torch.ones(self.size))\n",
    "        self.bias = nn.Parameter(torch.zeros(self.size))\n",
    "        \n",
    "        self.eps = eps\n",
    "    \n",
    "    def forward(self, x):\n",
    "        norm = self.alpha * (x - x.mean(dim=-1, keepdim=True)) \\\n",
    "        / (x.std(dim=-1, keepdim=True) + self.eps) + self.bias\n",
    "        return norm\n",
    "\n",
    "def attention(q, k, v, d_k, mask=None, dropout=None,returnWeights=False):\n",
    "    \n",
    "    scores = torch.matmul(q, k.transpose(-2, -1)) /  math.sqrt(d_k)\n",
    "    \n",
    "    if mask is not None:\n",
    "        mask = mask.unsqueeze(1)\n",
    "        scores = scores.masked_fill(mask == 0, -1e9)\n",
    "    \n",
    "    scores = F.softmax(scores, dim=-1)\n",
    "    \n",
    "    if dropout is not None:\n",
    "        scores = dropout(scores)\n",
    "    output = torch.matmul(scores, v)\n",
    "    # print(\"Scores in attention itself\",torch.sum(scores))\n",
    "    if(returnWeights):\n",
    "        return output,scores\n",
    "\n",
    "    return output\n",
    "\n",
    "class MultiHeadAttention(nn.Module):\n",
    "    def __init__(self, heads, d_model, dropout = 0.1):\n",
    "        super().__init__()\n",
    "        \n",
    "        self.d_model = d_model\n",
    "        self.d_k = d_model // heads\n",
    "        self.h = heads\n",
    "        \n",
    "        self.q_linear = nn.Linear(d_model, d_model)\n",
    "        self.v_linear = nn.Linear(d_model, d_model)\n",
    "        self.k_linear = nn.Linear(d_model, d_model)\n",
    "        \n",
    "        self.dropout = nn.Dropout(dropout)\n",
    "        self.out = nn.Linear(d_model, d_model)\n",
    "    \n",
    "    def forward(self, q, k, v, mask=None,returnWeights=False):\n",
    "        \n",
    "        bs = q.size(0)\n",
    "        \n",
    "        # perform linear operation and split into N heads\n",
    "        k = self.k_linear(k).view(bs, -1, self.h, self.d_k)\n",
    "        q = self.q_linear(q).view(bs, -1, self.h, self.d_k)\n",
    "        v = self.v_linear(v).view(bs, -1, self.h, self.d_k)\n",
    "        \n",
    "        # transpose to get dimensions bs * N * sl * d_model\n",
    "        k = k.transpose(1,2)\n",
    "        q = q.transpose(1,2)\n",
    "        v = v.transpose(1,2)\n",
    "        # calculate attention using function we will define next\n",
    "\n",
    "        if(returnWeights):\n",
    "            scores,weights = attention(q, k, v, self.d_k, mask, self.dropout,returnWeights=returnWeights)\n",
    "            # print(\"scores\",scores.shape,\"weights\",weights.shape)\n",
    "        else:\n",
    "            scores = attention(q, k, v, self.d_k, mask, self.dropout)\n",
    "\n",
    "        \n",
    "        # concatenate heads and put through final linear layer\n",
    "        concat = scores.transpose(1,2).contiguous()\\\n",
    "        .view(bs, -1, self.d_model)\n",
    "        output = self.out(concat)\n",
    "        # print(\"Attention output\", output.shape,torch.min(output))\n",
    "        if(returnWeights):\n",
    "            return output,weights\n",
    "        else:\n",
    "            return output"
   ]
  },
  {
   "cell_type": "code",
   "execution_count": null,
   "id": "ruled-investing",
   "metadata": {
    "id": "ruled-investing"
   },
   "outputs": [],
   "source": [
    "# Fine tune d_ff, dropout\n",
    "\n",
    "class FeedForward(nn.Module):\n",
    "    def __init__(self, d_model, d_ff=448, dropout = 0.2):\n",
    "        super().__init__() \n",
    "    \n",
    "        self.linear_1 = nn.Linear(d_model, d_ff)\n",
    "        self.dropout = nn.Dropout(dropout)\n",
    "        self.linear_2 = nn.Linear(d_ff, d_model)\n",
    "    \n",
    "    def forward(self, x):\n",
    "        x = self.dropout(F.relu(self.linear_1(x)))\n",
    "        x = self.linear_2(x)\n",
    "        return x"
   ]
  },
  {
   "cell_type": "code",
   "execution_count": null,
   "id": "informational-andorra",
   "metadata": {
    "id": "informational-andorra"
   },
   "outputs": [],
   "source": [
    "class EncoderLayer(nn.Module):\n",
    "    def __init__(self, d_model, heads, dropout=0.1):\n",
    "        super().__init__()\n",
    "        self.attn = MultiHeadAttention(heads, d_model, dropout=dropout)\n",
    "        self.ff = FeedForward(d_model)\n",
    "        self.norm_1 = Norm(d_model)\n",
    "        self.dropout_1 = nn.Dropout(dropout)\n",
    "        self.norm_2 = Norm(d_model)\n",
    "        self.dropout_2 = nn.Dropout(dropout)\n",
    "        \n",
    "    def forward(self, x,returnWeights=False):\n",
    "        if(returnWeights):\n",
    "            attenOutput,attenWeights= self.attn(x,x,x,returnWeights=returnWeights)\n",
    "        else:\n",
    "            attenOutput= self.attn(x,x,x)\n",
    "        x = x + self.dropout_1(attenOutput)\n",
    "        y = self.norm_2(x)\n",
    "        out = y + self.dropout_2(self.ff(y))\n",
    "        if(returnWeights):\n",
    "            return out,attenWeights\n",
    "        else:\n",
    "            return out"
   ]
  },
  {
   "cell_type": "code",
   "execution_count": null,
   "id": "exterior-premium",
   "metadata": {
    "id": "exterior-premium"
   },
   "outputs": [],
   "source": [
    "def get_clones(module, N):\n",
    "    return nn.ModuleList([copy.deepcopy(module) for i in range(N)])"
   ]
  },
  {
   "cell_type": "code",
   "execution_count": null,
   "id": "electrical-speed",
   "metadata": {
    "id": "electrical-speed"
   },
   "outputs": [],
   "source": [
    "class Encoder(nn.Module):\n",
    "    def __init__(self, input_size,seq_len, N, heads, dropout):\n",
    "        super().__init__()\n",
    "        self.N = N\n",
    "#         self.pe = PositionalEncoder(input_size,seq_len, dropout=dropout)\n",
    "        self.layers = get_clones(EncoderLayer(input_size, heads, dropout), N)\n",
    "        self.norm = Norm(input_size)\n",
    "    def forward(self, x,returnWeights=False):\n",
    "#         x = self.pe(x)\n",
    "        for i in range(self.N):\n",
    "            if(i==0 and returnWeights):\n",
    "                x,weights = self.layers[i](x,returnWeights=returnWeights)\n",
    "            else:\n",
    "                x = self.layers[i](x)\n",
    "\n",
    "        if(returnWeights):\n",
    "            return self.norm(x),weights\n",
    "        else:\n",
    "            return self.norm(x)"
   ]
  },
  {
   "cell_type": "code",
   "execution_count": null,
   "id": "87d15100",
   "metadata": {
    "id": "87d15100"
   },
   "outputs": [],
   "source": [
    "class PositionalEncoder(nn.Module):\n",
    "    def __init__(self, d_model, max_seq_len = 100, dropout = 0.1):\n",
    "        super().__init__()\n",
    "        self.d_model = d_model\n",
    "        self.dropout = nn.Dropout(dropout)\n",
    "        # create constant 'pe' matrix with values dependant on \n",
    "        # pos and i\n",
    "        pe = torch.zeros(max_seq_len, d_model)\n",
    "        for pos in range(max_seq_len):\n",
    "            for i in range(0, d_model, 2):\n",
    "                pe[pos, i] = \\\n",
    "                math.sin(pos / (10000 ** ((2 * i)/d_model)))\n",
    "                pe[pos, i + 1] = \\\n",
    "                math.cos(pos / (10000 ** ((2 * (i + 1))/d_model)))\n",
    "        pe = pe.unsqueeze(0)\n",
    "        self.register_buffer('pe', pe)\n",
    "    \n",
    "    def forward(self, x):\n",
    "        # make embeddings relatively larger\n",
    "        x = x * math.sqrt(self.d_model)\n",
    "        #add constant to embedding\n",
    "        seq_len = x.size(1)\n",
    "\n",
    "        pe = Variable(self.pe[:,:seq_len], requires_grad=False)\n",
    "\n",
    "        if x.is_cuda:\n",
    "            pe.cuda()\n",
    "        x = x + pe\n",
    "        return self.dropout(x)"
   ]
  },
  {
   "cell_type": "code",
   "execution_count": null,
   "id": "statewide-trick",
   "metadata": {
    "id": "statewide-trick"
   },
   "outputs": [],
   "source": [
    "class Transformer(nn.Module):\n",
    "    def __init__(self, input_size, seq_len, N, heads, dropout, num_classes, time=100):\n",
    "        super().__init__()\n",
    "        \n",
    "        self.pe = PositionalEncoder(input_size,seq_len, dropout)\n",
    "        \n",
    "        self.encoder = Encoder(input_size,seq_len, N, heads, dropout)\n",
    "        self.out = nn.Linear(input_size, num_classes) \n",
    "        self.tempmaxpool = nn.MaxPool1d(time)\n",
    "        \n",
    "    def forward(self, src, returnWeights=False):\n",
    "        src = self.pe(src)\n",
    "        src= src.transpose(1, 2)\n",
    "        if(returnWeights):\n",
    "            e_outputs,weights = self.encoder(src,returnWeights=returnWeights)\n",
    "        else:\n",
    "            e_outputs = self.encoder(src)\n",
    "\n",
    "        e_outputs=self.tempmaxpool(e_outputs.transpose(1, 2)).squeeze(-1)\n",
    "        output = self.out(e_outputs)\n",
    "        output = F.softmax(output, dim=1)\n",
    "        if(returnWeights):\n",
    "            return output,weights\n",
    "        else:\n",
    "            return output"
   ]
  },
  {
   "cell_type": "markdown",
   "id": "saving-alpha",
   "metadata": {
    "id": "saving-alpha"
   },
   "source": [
    "## Train"
   ]
  },
  {
   "cell_type": "markdown",
   "id": "robust-rapid",
   "metadata": {
    "id": "robust-rapid"
   },
   "source": [
    "Reference https://github.com/ayaabdelsalam91/TS-Interpretability-Benchmark"
   ]
  },
  {
   "cell_type": "markdown",
   "id": "minimal-huntington",
   "metadata": {
    "id": "minimal-huntington"
   },
   "source": [
    "Tunable Parameters:\n",
    "1. \\# of encoder layer\n",
    "2. \\# of hidden unit in positional encoding\n",
    "3. \\# of hidden unit in encoder MLP\n",
    "4. Dropout rate"
   ]
  },
  {
   "cell_type": "markdown",
   "id": "honest-assurance",
   "metadata": {
    "id": "honest-assurance"
   },
   "source": [
    "### Try deep network with higher dropout"
   ]
  },
  {
   "cell_type": "code",
   "execution_count": 5,
   "id": "adult-therapy",
   "metadata": {
    "id": "adult-therapy"
   },
   "outputs": [],
   "source": [
    "device = torch.device('cuda' if torch.cuda.is_available() else 'cpu')"
   ]
  },
  {
   "cell_type": "code",
   "execution_count": 41,
   "id": "acknowledged-drama",
   "metadata": {
    "id": "acknowledged-drama"
   },
   "outputs": [],
   "source": [
    "def train(ep,model,train_loader,optimizer, ls):\n",
    "\n",
    "  train_loss = 0\n",
    "  model.train()\n",
    "  for batch_idx, (data, target) in enumerate(train_loader):\n",
    "      data, target = data.to(device), target.to(device)\n",
    "\n",
    "      data = data.view(-1, 28, 28)\n",
    "      data, target = Variable(data), Variable(target)\n",
    "      optimizer.zero_grad()\n",
    "      output = model(data)\n",
    "      loss = ls(output, target)\n",
    "      loss.backward()\n",
    "      optimizer.step()\n",
    "      train_loss += loss\n",
    "      if batch_idx > 0 and batch_idx % 100 == 0:\n",
    "          message = ('Train Epoch: {} [{}/{} ({:.0f}%)]\\tLoss: {:.6f}'.format(\n",
    "              ep, batch_idx * 128, len(train_loader.dataset),\n",
    "              100. * batch_idx / len(train_loader), train_loss.item()/100))\n",
    "          print(message)\n",
    "          train_loss = 0\n",
    "  return model, optimizer"
   ]
  },
  {
   "cell_type": "code",
   "execution_count": null,
   "id": "accurate-access",
   "metadata": {
    "id": "accurate-access"
   },
   "outputs": [],
   "source": [
    "def test(model,test_loader,ls):\n",
    "  model.eval()\n",
    "  test_loss = 0\n",
    "  correct = 0\n",
    "  Acc=0\n",
    "  with torch.no_grad():\n",
    "    for data, target in test_loader:\n",
    "        data, target = data.to(device), target.to(device)\n",
    "\n",
    "        data = data.view(-1, 28, 28)\n",
    "        data, target = Variable(data), Variable(target)\n",
    "        output = model(data)\n",
    "        test_loss += ls(output, target)\n",
    "        pred = output.data.max(1, keepdim=True)[1]\n",
    "        correct += pred.eq(target.data.view_as(pred)).cpu().sum()\n",
    "\n",
    "    test_loss /= len(test_loader.dataset)\n",
    "    Acc = 100. * correct / len(test_loader.dataset)\n",
    "    message = ('\\nTest set: Average loss: {:.10f}, Accuracy: {}/{} ({:.2f}%)\\n'.format(\n",
    "        test_loss, correct, len(test_loader.dataset),Acc))\n",
    "    print(message)\n",
    "\n",
    "    return test_loss,Acc"
   ]
  },
  {
   "cell_type": "code",
   "execution_count": null,
   "id": "96fa7ae4",
   "metadata": {
    "id": "96fa7ae4"
   },
   "outputs": [],
   "source": [
    "train_loader, test_loader = data_generator_random_0_2(128)"
   ]
  },
  {
   "cell_type": "code",
   "execution_count": null,
   "id": "lightweight-possibility",
   "metadata": {
    "colab": {
     "base_uri": "https://localhost:8080/"
    },
    "id": "lightweight-possibility",
    "outputId": "797b77c5-d951-4a98-a1ae-cac34be34a5d",
    "scrolled": false
   },
   "outputs": [
    {
     "name": "stdout",
     "output_type": "stream",
     "text": [
      "Train Epoch: 1 [12800/118810 (11%)]\tLoss: 0.525238\n",
      "Train Epoch: 1 [25600/118810 (22%)]\tLoss: 0.407589\n",
      "Train Epoch: 1 [38400/118810 (32%)]\tLoss: 0.374858\n",
      "Train Epoch: 1 [51200/118810 (43%)]\tLoss: 0.365789\n",
      "Train Epoch: 1 [64000/118810 (54%)]\tLoss: 0.359361\n",
      "Train Epoch: 1 [76800/118810 (65%)]\tLoss: 0.348769\n",
      "Train Epoch: 1 [89600/118810 (75%)]\tLoss: 0.350855\n",
      "Train Epoch: 1 [102400/118810 (86%)]\tLoss: 0.345109\n",
      "Train Epoch: 1 [115200/118810 (97%)]\tLoss: 0.342503\n",
      "\n",
      "Test set: Average loss: 0.0025730222, Accuracy: 19839/20120 (98.60%)\n",
      "\n",
      "Train Epoch: 2 [12800/118810 (11%)]\tLoss: 0.345887\n",
      "Train Epoch: 2 [25600/118810 (22%)]\tLoss: 0.337004\n",
      "Train Epoch: 2 [38400/118810 (32%)]\tLoss: 0.339536\n",
      "Train Epoch: 2 [51200/118810 (43%)]\tLoss: 0.336598\n",
      "Train Epoch: 2 [64000/118810 (54%)]\tLoss: 0.337952\n",
      "Train Epoch: 2 [76800/118810 (65%)]\tLoss: 0.336491\n",
      "Train Epoch: 2 [89600/118810 (75%)]\tLoss: 0.338842\n",
      "Train Epoch: 2 [102400/118810 (86%)]\tLoss: 0.333091\n",
      "Train Epoch: 2 [115200/118810 (97%)]\tLoss: 0.332555\n",
      "\n",
      "Test set: Average loss: 0.0025443695, Accuracy: 19911/20120 (98.96%)\n",
      "\n"
     ]
    }
   ],
   "source": [
    "ep = 2\n",
    "dropout = 0.1\n",
    "layer = 12\n",
    "decay = 0.001\n",
    "lr = 0.0005\n",
    "\n",
    "model = Transformer(28, 28, layer, 4, dropout, 10,time=28)\n",
    "model.to(device)\n",
    "\n",
    "optimizer = torch.optim.Adam(model.parameters(), lr = lr, weight_decay = decay)\n",
    "loss = nn.CrossEntropyLoss()\n",
    "\n",
    "for epoch in range(1, ep+1):\n",
    "  model,optimizer = train(epoch,model,train_loader,optimizer,loss)\n",
    "  test_loss,test_acc = test(model,test_loader,loss)"
   ]
  },
  {
   "cell_type": "markdown",
   "id": "MUY2Z8ZzeKuw",
   "metadata": {
    "id": "MUY2Z8ZzeKuw"
   },
   "source": [
    "## PGD Attack"
   ]
  },
  {
   "cell_type": "code",
   "execution_count": 5,
   "id": "XXGOMlMN9UXI",
   "metadata": {
    "id": "XXGOMlMN9UXI"
   },
   "outputs": [],
   "source": [
    "device = torch.device('cuda' if torch.cuda.is_available() else 'cpu')"
   ]
  },
  {
   "cell_type": "code",
   "execution_count": 6,
   "id": "4FR7TJM68UpR",
   "metadata": {
    "id": "4FR7TJM68UpR"
   },
   "outputs": [],
   "source": [
    "from model import Transformer,TCN,LSTMWithInputCellAttention,LSTM\n",
    "\n",
    "model = torch.load(open('./m_model_Transformer_NumClasses_10.pt', 'rb'), map_location=device)"
   ]
  },
  {
   "cell_type": "code",
   "execution_count": 7,
   "id": "_7A21zLhAZO-",
   "metadata": {
    "id": "_7A21zLhAZO-"
   },
   "outputs": [],
   "source": [
    "train_loader, test_loader = data_generator_random(256)"
   ]
  },
  {
   "cell_type": "code",
   "execution_count": 87,
   "id": "S5O1LTcZEzKA",
   "metadata": {
    "id": "S5O1LTcZEzKA"
   },
   "outputs": [],
   "source": [
    "def attack(model, images, labels, device, noise = -1, att_col=[], att_row=[], cols=[],\n",
    "           eps = 0.05, alpha= 2/255, steps=40):\n",
    "    if len(images.shape) < 3:\n",
    "        images = images.unsqueeze(0)\n",
    "        labels = labels.unsqueeze(0)\n",
    "        if noise != -1:\n",
    "            noise = noise.unsqueeze(0)\n",
    "    images = images.clone().detach().to(device)\n",
    "    labels = labels.clone().detach().to(device)\n",
    "\n",
    "    num_images = images.shape[0]\n",
    "\n",
    "    outputs = model(images)\n",
    "\n",
    "    loss = nn.NLLLoss()\n",
    "\n",
    "    # Calculate orginal loss\n",
    "    old_loss = loss(outputs, labels)\n",
    "\n",
    "    adv_images = images.clone().detach()\n",
    "\n",
    "    for _ in range(steps):\n",
    "        adv_images.requires_grad = True\n",
    "        outputs = model(adv_images)\n",
    "        _, pred = torch.max(outputs, 1)\n",
    "            \n",
    "        if noise == -1:\n",
    "            cost = loss(outputs, labels)\n",
    "        else:\n",
    "            cost = -loss(outputs, noise)\n",
    "\n",
    "        # Update adversarial images\n",
    "        full_grad = torch.autograd.grad(cost, adv_images,\n",
    "                                        retain_graph=False, create_graph=False)[0]\n",
    "\n",
    "        grad = torch.zeros_like(full_grad)\n",
    "\n",
    "        for i in range(num_images):\n",
    "            if len(att_row) == 0:  # Attacking att_col\n",
    "                for c in att_col:\n",
    "                    grad[i, :, c] = full_grad[i, :, c]\n",
    "            else:  # Attacking att_col[0], att_row = [...]\n",
    "                grad = full_grad.clone().detach()\n",
    "                for c in range(28):\n",
    "                    if c not in cols:\n",
    "                        grad[i,:,c] = 0\n",
    "                for r in att_row:\n",
    "                    grad[i,r,att_col[0]] = 0\n",
    "\n",
    "        adv_images = adv_images.detach() + alpha * grad.sign()\n",
    "        delta = torch.clamp(adv_images - images, min=-eps, max=eps)\n",
    "        adv_images = torch.clamp(images + delta, min=0, max=1).detach()\n",
    "\n",
    "    outputs = model(adv_images)\n",
    "    new_loss = loss(outputs, labels)\n",
    "\n",
    "    if len(att_row) == 0:\n",
    "        return adv_images, (new_loss - old_loss)/(28*len(att_col))\n",
    "    else:\n",
    "        return adv_images, (new_loss - old_loss)/(28*len(cols)-len(att_row))"
   ]
  },
  {
   "cell_type": "code",
   "execution_count": 207,
   "id": "a110b729",
   "metadata": {},
   "outputs": [],
   "source": [
    "images, labels = next(iter(train_loader))"
   ]
  },
  {
   "cell_type": "code",
   "execution_count": 208,
   "id": "878a7060",
   "metadata": {},
   "outputs": [],
   "source": [
    "test_img = images[0]"
   ]
  },
  {
   "cell_type": "code",
   "execution_count": 209,
   "id": "yvmcjqtgs7-u",
   "metadata": {
    "colab": {
     "base_uri": "https://localhost:8080/",
     "height": 281
    },
    "id": "yvmcjqtgs7-u",
    "outputId": "eec4327e-1f34-4983-9bbe-39208b531ab1"
   },
   "outputs": [
    {
     "data": {
      "image/png": "[encoded data removed]",
      "text/plain": [
       "<Figure size 432x288 with 1 Axes>"
      ]
     },
     "metadata": {
      "needs_background": "light"
     },
     "output_type": "display_data"
    }
   ],
   "source": [
    "import matplotlib.pyplot as plt\n",
    "\n",
    "plt.imshow(test_img, cmap='gray')\n",
    "plt.title(f\"Label(Even):{labels[0]}\")\n",
    "plt.show()"
   ]
  },
  {
   "cell_type": "code",
   "execution_count": 210,
   "id": "ae28243a",
   "metadata": {},
   "outputs": [
    {
     "data": {
      "text/plain": [
       "tensor([[-1.7346e+01, -1.8540e+01, -1.9702e+01, -1.2556e+01, -1.1539e+01,\n",
       "         -1.5740e+01, -1.9408e+01, -1.1781e+01, -1.5580e+01, -2.1219e-05]],\n",
       "       device='cuda:0', grad_fn=<LogSoftmaxBackward0>)"
      ]
     },
     "execution_count": 210,
     "metadata": {},
     "output_type": "execute_result"
    }
   ],
   "source": [
    "outputs = model(test_img.unsqueeze(0).to(device))\n",
    "outputs"
   ]
  },
  {
   "cell_type": "code",
   "execution_count": 22,
   "id": "nrL6dqMJcfZx",
   "metadata": {
    "id": "nrL6dqMJcfZx"
   },
   "outputs": [],
   "source": [
    "def find_important_independent_colunms(model, image, label, noise, device, n_cols):\n",
    "    scores = []\n",
    "    for col in range(28):\n",
    "        _, score = attack(model, image, label, device, noise, att_col=[col])\n",
    "        scores.append((score.item(), col))\n",
    "    scores.sort(reverse=True)\n",
    "    cols = [c for _, c in scores[:n_cols]]\n",
    "    best_scores = [s for s, _ in scores[:n_cols]]\n",
    "    return cols, best_scores"
   ]
  },
  {
   "cell_type": "code",
   "execution_count": 54,
   "id": "Lg2cAc_61HGB",
   "metadata": {
    "id": "Lg2cAc_61HGB"
   },
   "outputs": [],
   "source": [
    "def find_important_joint_colunms(model, image, label, noise, device, n_cols):\n",
    "    available_cols = [i for i in range(28)]\n",
    "    chosen_cols = []\n",
    "    prev_best_score = float(\"-inf\")\n",
    "    scores = []\n",
    "    label = torch.as_tensor(label).to(device)\n",
    "    noise = torch.as_tensor(noise).to(device)\n",
    "    for _ in range(n_cols):\n",
    "        best_col = None\n",
    "        best_score = float(\"-inf\")\n",
    "        for col in available_cols:\n",
    "            _, score = attack(model, image, label, device, noise, att_col=chosen_cols+[col])\n",
    "            score = score.item()\n",
    "            if score > best_score:\n",
    "                best_col = col\n",
    "                best_score = score\n",
    "        chosen_cols.append(best_col)\n",
    "        available_cols.remove(best_col)\n",
    "        if prev_best_score == float(\"-inf\"):\n",
    "            scores.append(best_score)\n",
    "        else:\n",
    "            scores.append(best_score - prev_best_score)\n",
    "        prev_best_score = best_score\n",
    "\n",
    "    return chosen_cols, scores"
   ]
  },
  {
   "cell_type": "code",
   "execution_count": 24,
   "id": "myUm2UUwYyTR",
   "metadata": {
    "id": "myUm2UUwYyTR"
   },
   "outputs": [],
   "source": [
    "def find_important_rows(model, image, label, noise, device, cols, n_row):\n",
    "    label = torch.as_tensor(label).to(device)\n",
    "    noise = torch.as_tensor(noise).to(device)\n",
    "    important_rows = []\n",
    "    for col in cols:\n",
    "        scores = []\n",
    "        for row in range(28):\n",
    "            _, score = attack(model, image, label, device, noise, att_col=[col], att_row=[row])\n",
    "            scores.append((score.item(), row))\n",
    "        scores.sort(reverse=True)\n",
    "        best_rows = [r for _, r in scores[:n_row]]\n",
    "        important_rows.append(best_rows)\n",
    "\n",
    "    return important_rows"
   ]
  },
  {
   "cell_type": "code",
   "execution_count": 83,
   "id": "P5Glm05oo9Rr",
   "metadata": {
    "id": "P5Glm05oo9Rr"
   },
   "outputs": [],
   "source": [
    "def find_important_joint_rows(model, image, label, noise, device, cols, n_rows):\n",
    "    label = torch.as_tensor(label).to(device)\n",
    "    noise = torch.as_tensor(noise).to(device)\n",
    "    important_rows = []\n",
    "    all_scores = []\n",
    "    for col in cols:\n",
    "        available_rows = [i for i in range(28)]\n",
    "        chosen_rows = []\n",
    "        prev_best_score = float('inf')\n",
    "        scores = []\n",
    "        for n_row in range(n_rows):\n",
    "            best_row = None\n",
    "            best_score = float('inf')\n",
    "            for row in available_rows:\n",
    "                _, score = attack(model, image, label, device, noise, att_col=[col], att_row = chosen_rows+[row], cols=cols)\n",
    "                score = score.item()\n",
    "                if score < best_score:\n",
    "                    best_row = row\n",
    "                    best_score = score\n",
    "            chosen_rows.append(best_row)\n",
    "            available_rows.remove(best_row)\n",
    "            if prev_best_score == float(\"inf\"):\n",
    "                scores.append(best_score)\n",
    "            else:\n",
    "                scores.append(prev_best_score - best_score)\n",
    "            prev_best_score = best_score\n",
    "        important_rows.append(chosen_rows)\n",
    "        all_scores.append(scores)\n",
    "\n",
    "    return all_scores, important_rows"
   ]
  },
  {
   "cell_type": "code",
   "execution_count": 26,
   "id": "f7870000",
   "metadata": {},
   "outputs": [],
   "source": [
    "def find_pixels_from_column(model, image, label, noise, device, cols, n_pixels):\n",
    "    label = torch.as_tensor(label).to(device)\n",
    "    noise = torch.as_tensor(noise).to(device)\n",
    "    prev_best_score = float(\"inf\")\n",
    "    pixels = []\n",
    "    for _ in range(n_pixels):\n",
    "        best_score = float(\"inf\")\n",
    "        best_pixel = None\n",
    "        for row in range(28):\n",
    "            for col in cols:\n",
    "                tup = (row,col)\n",
    "                if tup not in pixels:\n",
    "                    _, score = attack_pixel(model, image, label, device, noise, cols = cols, pixels=pixels+[tup])\n",
    "                    if score < best_score:\n",
    "                        best_score = score\n",
    "                        best_pixel = tup\n",
    "        pixels.append(best_pixel)\n",
    "        prev_best_score = best_score\n",
    "    return pixels"
   ]
  },
  {
   "cell_type": "code",
   "execution_count": 211,
   "id": "Hg_Dn5RY8Iai",
   "metadata": {
    "id": "Hg_Dn5RY8Iai"
   },
   "outputs": [],
   "source": [
    "cols, score = find_important_joint_colunms(model, test_img, 9, 6, device, 8)"
   ]
  },
  {
   "cell_type": "code",
   "execution_count": 212,
   "id": "Bx49MMu58Q1x",
   "metadata": {
    "colab": {
     "base_uri": "https://localhost:8080/"
    },
    "id": "Bx49MMu58Q1x",
    "outputId": "60465557-9059-49e9-ac14-59fac29c0296"
   },
   "outputs": [
    {
     "data": {
      "text/plain": [
       "([16, 18, 14, 21, 11, 20, 15, 10],\n",
       " [5.662276407747413e-07,\n",
       "  4.980867061021854e-07,\n",
       "  8.91365016286727e-06,\n",
       "  5.020971002522856e-05,\n",
       "  8.417852950515226e-05,\n",
       "  0.006356006459100172,\n",
       "  0.015264488756656647,\n",
       "  0.012163525447249413])"
      ]
     },
     "execution_count": 212,
     "metadata": {},
     "output_type": "execute_result"
    }
   ],
   "source": [
    "cols, score"
   ]
  },
  {
   "cell_type": "code",
   "execution_count": 213,
   "id": "fATwSHdMqFoN",
   "metadata": {
    "id": "fATwSHdMqFoN"
   },
   "outputs": [],
   "source": [
    "s, r = find_important_joint_rows(model, test_img, 9, 6, device, [16, 18, 14, 21, 11, 20, 15, 10], 8)"
   ]
  },
  {
   "cell_type": "code",
   "execution_count": 215,
   "id": "EpZY11ufhY68",
   "metadata": {
    "colab": {
     "base_uri": "https://localhost:8080/"
    },
    "id": "EpZY11ufhY68",
    "outputId": "750efac6-7b6d-4702-b599-e3918cd4cda8"
   },
   "outputs": [
    {
     "data": {
      "text/plain": [
       "[[0, 1, 16, 12, 23, 2, 25, 17],\n",
       " [1, 3, 18, 19, 16, 22, 7, 20],\n",
       " [26, 6, 5, 12, 2, 24, 0, 23],\n",
       " [3, 27, 23, 10, 0, 24, 7, 26],\n",
       " [0, 26, 19, 22, 24, 5, 16, 23],\n",
       " [1, 26, 8, 14, 21, 0, 3, 5],\n",
       " [0, 20, 5, 6, 9, 17, 24, 25],\n",
       " [13, 20, 27, 10, 12, 25, 18, 5]]"
      ]
     },
     "execution_count": 215,
     "metadata": {},
     "output_type": "execute_result"
    }
   ],
   "source": [
    "r"
   ]
  },
  {
   "cell_type": "code",
   "execution_count": 48,
   "id": "3Xqotc2le3hL",
   "metadata": {
    "id": "3Xqotc2le3hL"
   },
   "outputs": [],
   "source": [
    "def visualize_attack(cols, rows, image, label, noise):\n",
    "  x = []\n",
    "  y = []\n",
    "  for i in range(len(cols)):\n",
    "      col = cols[i]\n",
    "      row = rows[i]\n",
    "      for r in row:\n",
    "          x.append(col)\n",
    "          y.append(r)\n",
    "  \n",
    "  fig, (ax1, ax2) = plt.subplots(1, 2)\n",
    "  ax1.imshow(image, cmap='gray')\n",
    "  ax1.set_title('Data Image, Label: {}, Noise:{}'.format(label, noise))\n",
    "  ax2.scatter(x, y, c='red', marker='s')\n",
    "  ax2.imshow(image, cmap='gray')\n",
    "  ax2.set_title('Important features')\n",
    "\n",
    "  fig.tight_layout()\n",
    "  plt.show()"
   ]
  },
  {
   "cell_type": "code",
   "execution_count": 214,
   "id": "zLSdZdqpXe_Y",
   "metadata": {
    "colab": {
     "base_uri": "https://localhost:8080/",
     "height": 237
    },
    "id": "zLSdZdqpXe_Y",
    "outputId": "f7a714ee-a85e-460f-cf59-e59c44315271"
   },
   "outputs": [
    {
     "data": {
      "image/png": "[encoded data removed]",
      "text/plain": [
       "<Figure size 432x288 with 2 Axes>"
      ]
     },
     "metadata": {
      "needs_background": "light"
     },
     "output_type": "display_data"
    }
   ],
   "source": [
    "visualize_attack(cols, r, test_img, 9, 6)"
   ]
  },
  {
   "cell_type": "code",
   "execution_count": null,
   "id": "92ab6507",
   "metadata": {},
   "outputs": [],
   "source": []
  }
 ],
 "metadata": {
  "accelerator": "GPU",
  "colab": {
   "collapsed_sections": [
    "honest-assurance"
   ],
   "name": "dataloader.ipynb",
   "provenance": []
  },
  "kernelspec": {
   "display_name": "Python 3 (ipykernel)",
   "language": "python",
   "name": "python3"
  },
  "language_info": {
   "codemirror_mode": {
    "name": "ipython",
    "version": 3
   },
   "file_extension": ".py",
   "mimetype": "text/x-python",
   "name": "python",
   "nbconvert_exporter": "python",
   "pygments_lexer": "ipython3",
   "version": "3.8.8"
  },
  "varInspector": {
   "cols": {
    "lenName": 16,
    "lenType": 16,
    "lenVar": 40
   },
   "kernels_config": {
    "python": {
     "delete_cmd_postfix": "",
     "delete_cmd_prefix": "del ",
     "library": "var_list.py",
     "varRefreshCmd": "print(var_dic_list())"
    },
    "r": {
     "delete_cmd_postfix": ") ",
     "delete_cmd_prefix": "rm(",
     "library": "var_list.r",
     "varRefreshCmd": "cat(var_dic_list()) "
    }
   },
   "types_to_exclude": [
    "module",
    "function",
    "builtin_function_or_method",
    "instance",
    "_Feature"
   ],
   "window_display": false
  }
 },
 "nbformat": 4,
 "nbformat_minor": 5
}
